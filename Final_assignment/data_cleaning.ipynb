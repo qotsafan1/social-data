{
 "cells": [
  {
   "cell_type": "code",
   "execution_count": 1,
   "metadata": {
    "collapsed": true
   },
   "outputs": [],
   "source": [
    "import pandas as pd\n",
    "import json\n",
    "import matplotlib.pyplot as plt\n",
    "path = '/Users/hringurd/Documents/School/Social_data_analysis/Final_Assignment/'"
   ]
  },
  {
   "cell_type": "code",
   "execution_count": 2,
   "metadata": {
    "collapsed": true
   },
   "outputs": [],
   "source": [
    "df = pd.read_csv(path + 'clean_311_data.csv')"
   ]
  },
  {
   "cell_type": "code",
   "execution_count": 41,
   "metadata": {},
   "outputs": [
    {
     "data": {
      "text/plain": [
       "(1633417, 5)"
      ]
     },
     "execution_count": 41,
     "metadata": {},
     "output_type": "execute_result"
    }
   ],
   "source": [
    "df.shape"
   ]
  },
  {
   "cell_type": "code",
   "execution_count": 4,
   "metadata": {
    "collapsed": true
   },
   "outputs": [],
   "source": [
    "df = df[df.Longitude != 0]"
   ]
  },
  {
   "cell_type": "code",
   "execution_count": 5,
   "metadata": {},
   "outputs": [
    {
     "data": {
      "text/plain": [
       "9800502"
      ]
     },
     "execution_count": 5,
     "metadata": {},
     "output_type": "execute_result"
    }
   ],
   "source": [
    "df.size"
   ]
  },
  {
   "cell_type": "code",
   "execution_count": 6,
   "metadata": {
    "collapsed": true
   },
   "outputs": [],
   "source": [
    "df = df[df.Latitude != 0]"
   ]
  },
  {
   "cell_type": "code",
   "execution_count": 7,
   "metadata": {},
   "outputs": [
    {
     "data": {
      "text/plain": [
       "9800502"
      ]
     },
     "execution_count": 7,
     "metadata": {},
     "output_type": "execute_result"
    }
   ],
   "source": [
    "df.size"
   ]
  },
  {
   "cell_type": "code",
   "execution_count": 8,
   "metadata": {
    "collapsed": true
   },
   "outputs": [],
   "source": [
    "df = df[['Opened','Category', 'Request Type', 'Latitude', 'Longitude']]"
   ]
  },
  {
   "cell_type": "code",
   "execution_count": 40,
   "metadata": {},
   "outputs": [
    {
     "data": {
      "text/plain": [
       "8167085"
      ]
     },
     "execution_count": 40,
     "metadata": {},
     "output_type": "execute_result"
    }
   ],
   "source": [
    "df[df.Category != 'Homeless Concerns']\n",
    "df.size"
   ]
  },
  {
   "cell_type": "code",
   "execution_count": 41,
   "metadata": {},
   "outputs": [
    {
     "data": {
      "image/png": "[encoded data removed]",
      "text/plain": [
       "<matplotlib.figure.Figure at 0x12ddc9e50>"
      ]
     },
     "metadata": {},
     "output_type": "display_data"
    }
   ],
   "source": [
    "df[\"Opened\"] = pd.to_datetime(df[\"Opened\"], format=\"%m/%d/%Y %I:%M:%S %p\")\n",
    "df[\"Opened\"].groupby(df[\"Opened\"].dt.year).count().plot(kind=\"bar\")\n",
    "plt.show()"
   ]
  },
  {
   "cell_type": "code",
   "execution_count": 9,
   "metadata": {
    "collapsed": true
   },
   "outputs": [],
   "source": [
    "from collections import Counter\n",
    "\n",
    "coll = Counter(df['Category'])"
   ]
  },
  {
   "cell_type": "code",
   "execution_count": 10,
   "metadata": {},
   "outputs": [
    {
     "data": {
      "text/plain": [
       "['Street and Sidewalk Cleaning',\n",
       " 'Graffiti',\n",
       " 'Abandoned Vehicle',\n",
       " 'Homeless Concerns',\n",
       " 'Encampments']"
      ]
     },
     "execution_count": 10,
     "metadata": {},
     "output_type": "execute_result"
    }
   ],
   "source": [
    "case_types = [x[0] for x in coll.most_common(5)]\n",
    "case_types"
   ]
  },
  {
   "cell_type": "code",
   "execution_count": 11,
   "metadata": {
    "collapsed": true
   },
   "outputs": [],
   "source": [
    "df = df[df.Category.isin(case_types)]"
   ]
  },
  {
   "cell_type": "code",
   "execution_count": 12,
   "metadata": {},
   "outputs": [
    {
     "data": {
      "text/plain": [
       "8167085"
      ]
     },
     "execution_count": 12,
     "metadata": {},
     "output_type": "execute_result"
    }
   ],
   "source": [
    "df.size"
   ]
  },
  {
   "cell_type": "code",
   "execution_count": 13,
   "metadata": {
    "collapsed": true
   },
   "outputs": [],
   "source": [
    "#df.to_csv('clean_311_data.csv')"
   ]
  },
  {
   "cell_type": "code",
   "execution_count": 14,
   "metadata": {},
   "outputs": [
    {
     "data": {
      "text/plain": [
       "[('Street and Sidewalk Cleaning', 778282),\n",
       " ('Graffiti', 420379),\n",
       " ('Abandoned Vehicle', 178763),\n",
       " ('Homeless Concerns', 144948),\n",
       " ('Encampments', 111045)]"
      ]
     },
     "execution_count": 14,
     "metadata": {},
     "output_type": "execute_result"
    }
   ],
   "source": [
    "coll.most_common(20)"
   ]
  },
  {
   "cell_type": "code",
   "execution_count": 15,
   "metadata": {
    "collapsed": true
   },
   "outputs": [],
   "source": [
    "income_df = pd.read_csv('income.csv')"
   ]
  },
  {
   "cell_type": "code",
   "execution_count": 16,
   "metadata": {
    "collapsed": true
   },
   "outputs": [],
   "source": [
    "geo_id = income_df.geo.unique()"
   ]
  },
  {
   "cell_type": "code",
   "execution_count": 17,
   "metadata": {},
   "outputs": [
    {
     "data": {
      "text/plain": [
       "'06075010100'"
      ]
     },
     "execution_count": 17,
     "metadata": {},
     "output_type": "execute_result"
    }
   ],
   "source": [
    "list(geo_id)[0][7:]"
   ]
  },
  {
   "cell_type": "code",
   "execution_count": 18,
   "metadata": {
    "collapsed": true
   },
   "outputs": [],
   "source": [
    "geo_ids = [x[7:] for x in list(geo_id)]"
   ]
  },
  {
   "cell_type": "code",
   "execution_count": 19,
   "metadata": {
    "collapsed": true
   },
   "outputs": [],
   "source": [
    "with open(path + '06.geojson') as json_data:\n",
    "    d = json.load(json_data)\n"
   ]
  },
  {
   "cell_type": "code",
   "execution_count": 20,
   "metadata": {},
   "outputs": [],
   "source": [
    "tmp = []\n",
    "for i in d['features']:\n",
    "    if i['properties']['GEOID'] in geo_ids:\n",
    "        tmp.append(i)"
   ]
  },
  {
   "cell_type": "code",
   "execution_count": 21,
   "metadata": {},
   "outputs": [
    {
     "data": {
      "text/plain": [
       "8057"
      ]
     },
     "execution_count": 21,
     "metadata": {},
     "output_type": "execute_result"
    }
   ],
   "source": [
    "len(d['features'])"
   ]
  },
  {
   "cell_type": "code",
   "execution_count": 22,
   "metadata": {
    "collapsed": true
   },
   "outputs": [],
   "source": [
    "#with open('geo_data.json', 'w') as outfile:\n",
    "#    json.dump(d, outfile)"
   ]
  },
  {
   "cell_type": "code",
   "execution_count": 23,
   "metadata": {
    "collapsed": true
   },
   "outputs": [],
   "source": [
    "years = range(2008,2019)\n",
    "df[\"Opened\"] = pd.to_datetime(df[\"Opened\"], format=\"%m/%d/%Y %I:%M:%S %p\")"
   ]
  },
  {
   "cell_type": "code",
   "execution_count": 24,
   "metadata": {},
   "outputs": [
    {
     "name": "stdout",
     "output_type": "stream",
     "text": [
      "2008: 1811.0\n",
      "2009: 5676.0\n",
      "2010: 5937.0\n",
      "2011: 5723.0\n",
      "2012: 6585.0\n",
      "2013: 9451.0\n",
      "2014: 12479.0\n",
      "2015: 17983.0\n",
      "2016: 29906.0\n",
      "2017: 39395.0\n",
      "2018: 10002.0\n"
     ]
    }
   ],
   "source": [
    "new_df = df[df.Category == 'Homeless Concerns']\n",
    "for i in years:\n",
    "    print(str(i) + ': ' + str(float(len(new_df[new_df.Opened.dt.year == i])/1.0)))"
   ]
  },
  {
   "cell_type": "code",
   "execution_count": 25,
   "metadata": {},
   "outputs": [
    {
     "data": {
      "text/plain": [
       "144948"
      ]
     },
     "execution_count": 25,
     "metadata": {},
     "output_type": "execute_result"
    }
   ],
   "source": [
    "len(new_df)"
   ]
  },
  {
   "cell_type": "code",
   "execution_count": 26,
   "metadata": {},
   "outputs": [
    {
     "data": {
      "text/plain": [
       "724740"
      ]
     },
     "execution_count": 26,
     "metadata": {},
     "output_type": "execute_result"
    }
   ],
   "source": [
    "new_df.size"
   ]
  },
  {
   "cell_type": "code",
   "execution_count": 27,
   "metadata": {},
   "outputs": [
    {
     "data": {
      "text/html": [
       "<div>\n",
       "<style>\n",
       "    .dataframe thead tr:only-child th {\n",
       "        text-align: right;\n",
       "    }\n",
       "\n",
       "    .dataframe thead th {\n",
       "        text-align: left;\n",
       "    }\n",
       "\n",
       "    .dataframe tbody tr th {\n",
       "        vertical-align: top;\n",
       "    }\n",
       "</style>\n",
       "<table border=\"1\" class=\"dataframe\">\n",
       "  <thead>\n",
       "    <tr style=\"text-align: right;\">\n",
       "      <th></th>\n",
       "      <th>Opened</th>\n",
       "      <th>Category</th>\n",
       "      <th>Request Type</th>\n",
       "      <th>Latitude</th>\n",
       "      <th>Longitude</th>\n",
       "    </tr>\n",
       "  </thead>\n",
       "  <tbody>\n",
       "    <tr>\n",
       "      <th>52</th>\n",
       "      <td>2008-12-30 12:15:08</td>\n",
       "      <td>Homeless Concerns</td>\n",
       "      <td>Medical Waste</td>\n",
       "      <td>37.75343</td>\n",
       "      <td>-122.4253</td>\n",
       "    </tr>\n",
       "    <tr>\n",
       "      <th>68</th>\n",
       "      <td>2008-12-30 10:20:51</td>\n",
       "      <td>Homeless Concerns</td>\n",
       "      <td>Human Waste</td>\n",
       "      <td>37.75093</td>\n",
       "      <td>-122.4134</td>\n",
       "    </tr>\n",
       "    <tr>\n",
       "      <th>69</th>\n",
       "      <td>2008-12-30 10:06:28</td>\n",
       "      <td>Homeless Concerns</td>\n",
       "      <td>Human Waste</td>\n",
       "      <td>37.80336</td>\n",
       "      <td>-122.4183</td>\n",
       "    </tr>\n",
       "    <tr>\n",
       "      <th>107</th>\n",
       "      <td>2008-12-29 22:45:54</td>\n",
       "      <td>Homeless Concerns</td>\n",
       "      <td>Human Waste</td>\n",
       "      <td>37.77457</td>\n",
       "      <td>-122.4126</td>\n",
       "    </tr>\n",
       "    <tr>\n",
       "      <th>122</th>\n",
       "      <td>2008-12-29 17:32:46</td>\n",
       "      <td>Homeless Concerns</td>\n",
       "      <td>Human Waste</td>\n",
       "      <td>37.79704</td>\n",
       "      <td>-122.4349</td>\n",
       "    </tr>\n",
       "  </tbody>\n",
       "</table>\n",
       "</div>"
      ],
      "text/plain": [
       "                 Opened           Category   Request Type  Latitude  Longitude\n",
       "52  2008-12-30 12:15:08  Homeless Concerns  Medical Waste  37.75343  -122.4253\n",
       "68  2008-12-30 10:20:51  Homeless Concerns    Human Waste  37.75093  -122.4134\n",
       "69  2008-12-30 10:06:28  Homeless Concerns    Human Waste  37.80336  -122.4183\n",
       "107 2008-12-29 22:45:54  Homeless Concerns    Human Waste  37.77457  -122.4126\n",
       "122 2008-12-29 17:32:46  Homeless Concerns    Human Waste  37.79704  -122.4349"
      ]
     },
     "execution_count": 27,
     "metadata": {},
     "output_type": "execute_result"
    }
   ],
   "source": [
    "new_df.head()"
   ]
  },
  {
   "cell_type": "code",
   "execution_count": 28,
   "metadata": {},
   "outputs": [
    {
     "data": {
      "text/html": [
       "<div>\n",
       "<style>\n",
       "    .dataframe thead tr:only-child th {\n",
       "        text-align: right;\n",
       "    }\n",
       "\n",
       "    .dataframe thead th {\n",
       "        text-align: left;\n",
       "    }\n",
       "\n",
       "    .dataframe tbody tr th {\n",
       "        vertical-align: top;\n",
       "    }\n",
       "</style>\n",
       "<table border=\"1\" class=\"dataframe\">\n",
       "  <thead>\n",
       "    <tr style=\"text-align: right;\">\n",
       "      <th></th>\n",
       "      <th>Latitude</th>\n",
       "      <th>Longitude</th>\n",
       "    </tr>\n",
       "  </thead>\n",
       "  <tbody>\n",
       "    <tr>\n",
       "      <th>count</th>\n",
       "      <td>144948.000000</td>\n",
       "      <td>144948.000000</td>\n",
       "    </tr>\n",
       "    <tr>\n",
       "      <th>mean</th>\n",
       "      <td>37.773494</td>\n",
       "      <td>-122.418707</td>\n",
       "    </tr>\n",
       "    <tr>\n",
       "      <th>std</th>\n",
       "      <td>0.063031</td>\n",
       "      <td>0.149085</td>\n",
       "    </tr>\n",
       "    <tr>\n",
       "      <th>min</th>\n",
       "      <td>30.009900</td>\n",
       "      <td>-141.218800</td>\n",
       "    </tr>\n",
       "    <tr>\n",
       "      <th>25%</th>\n",
       "      <td>37.765610</td>\n",
       "      <td>-122.420700</td>\n",
       "    </tr>\n",
       "    <tr>\n",
       "      <th>50%</th>\n",
       "      <td>37.776910</td>\n",
       "      <td>-122.415000</td>\n",
       "    </tr>\n",
       "    <tr>\n",
       "      <th>75%</th>\n",
       "      <td>37.783850</td>\n",
       "      <td>-122.410300</td>\n",
       "    </tr>\n",
       "    <tr>\n",
       "      <th>max</th>\n",
       "      <td>37.831660</td>\n",
       "      <td>-122.363400</td>\n",
       "    </tr>\n",
       "  </tbody>\n",
       "</table>\n",
       "</div>"
      ],
      "text/plain": [
       "            Latitude      Longitude\n",
       "count  144948.000000  144948.000000\n",
       "mean       37.773494    -122.418707\n",
       "std         0.063031       0.149085\n",
       "min        30.009900    -141.218800\n",
       "25%        37.765610    -122.420700\n",
       "50%        37.776910    -122.415000\n",
       "75%        37.783850    -122.410300\n",
       "max        37.831660    -122.363400"
      ]
     },
     "execution_count": 28,
     "metadata": {},
     "output_type": "execute_result"
    }
   ],
   "source": [
    "new_df.describe()"
   ]
  },
  {
   "cell_type": "code",
   "execution_count": 47,
   "metadata": {},
   "outputs": [
    {
     "data": {
      "image/png": "[encoded data removed]",
      "text/plain": [
       "<matplotlib.figure.Figure at 0x116417e90>"
      ]
     },
     "metadata": {},
     "output_type": "display_data"
    }
   ],
   "source": [
    "#new_df[\"Opened\"] = pd.to_datetime(new_df[\"Opened\"], format=\"%m/%d/%Y %I:%M:%S %p\")\n",
    "new_df[\"Opened\"].groupby(new_df[\"Opened\"].dt.month).count().plot(kind=\"bar\")\n",
    "plt.title('Number of homeless concerns by month of the year')\n",
    "plt.ylabel('Number of incidents')\n",
    "plt.xlabel('Month of the year')\n",
    "plt.show()"
   ]
  },
  {
   "cell_type": "code",
   "execution_count": 44,
   "metadata": {},
   "outputs": [
    {
     "data": {
      "image/png": "[encoded data removed]",
      "text/plain": [
       "<matplotlib.figure.Figure at 0x1156d47d0>"
      ]
     },
     "metadata": {},
     "output_type": "display_data"
    }
   ],
   "source": [
    "new_df[\"Opened\"].groupby(new_df[\"Opened\"].dt.day).count().plot(kind=\"bar\")\n",
    "plt.title('Number of homeless concerns by day of the month')\n",
    "plt.ylabel('Number of incidents')\n",
    "plt.xlabel('Day of the month')\n",
    "plt.show()"
   ]
  },
  {
   "cell_type": "code",
   "execution_count": 46,
   "metadata": {},
   "outputs": [
    {
     "data": {
      "image/png": "[encoded data removed]",
      "text/plain": [
       "<matplotlib.figure.Figure at 0x1162f9750>"
      ]
     },
     "metadata": {},
     "output_type": "display_data"
    }
   ],
   "source": [
    "new_df[\"Opened\"].groupby(new_df[\"Opened\"].dt.year).count().plot(kind=\"bar\")\n",
    "plt.title('Number of homeless concerns by year')\n",
    "plt.ylabel('Number of incidents')\n",
    "plt.xlabel('Year')\n",
    "plt.show()"
   ]
  },
  {
   "cell_type": "code",
   "execution_count": 40,
   "metadata": {},
   "outputs": [
    {
     "data": {
      "text/plain": [
       "Timestamp('2008-12-22 13:21:25')"
      ]
     },
     "execution_count": 40,
     "metadata": {},
     "output_type": "execute_result"
    }
   ],
   "source": [
    "new_df.iloc[52][0]"
   ]
  },
  {
   "cell_type": "code",
   "execution_count": 36,
   "metadata": {},
   "outputs": [
    {
     "data": {
      "text/html": [
       "<div>\n",
       "<style>\n",
       "    .dataframe thead tr:only-child th {\n",
       "        text-align: right;\n",
       "    }\n",
       "\n",
       "    .dataframe thead th {\n",
       "        text-align: left;\n",
       "    }\n",
       "\n",
       "    .dataframe tbody tr th {\n",
       "        vertical-align: top;\n",
       "    }\n",
       "</style>\n",
       "<table border=\"1\" class=\"dataframe\">\n",
       "  <thead>\n",
       "    <tr style=\"text-align: right;\">\n",
       "      <th></th>\n",
       "      <th>Opened</th>\n",
       "      <th>Category</th>\n",
       "      <th>Request Type</th>\n",
       "      <th>Latitude</th>\n",
       "      <th>Longitude</th>\n",
       "    </tr>\n",
       "  </thead>\n",
       "  <tbody>\n",
       "    <tr>\n",
       "      <th>52</th>\n",
       "      <td>2008-12-30 12:15:08</td>\n",
       "      <td>Homeless Concerns</td>\n",
       "      <td>Medical Waste</td>\n",
       "      <td>37.75343</td>\n",
       "      <td>-122.4253</td>\n",
       "    </tr>\n",
       "    <tr>\n",
       "      <th>68</th>\n",
       "      <td>2008-12-30 10:20:51</td>\n",
       "      <td>Homeless Concerns</td>\n",
       "      <td>Human Waste</td>\n",
       "      <td>37.75093</td>\n",
       "      <td>-122.4134</td>\n",
       "    </tr>\n",
       "    <tr>\n",
       "      <th>69</th>\n",
       "      <td>2008-12-30 10:06:28</td>\n",
       "      <td>Homeless Concerns</td>\n",
       "      <td>Human Waste</td>\n",
       "      <td>37.80336</td>\n",
       "      <td>-122.4183</td>\n",
       "    </tr>\n",
       "    <tr>\n",
       "      <th>107</th>\n",
       "      <td>2008-12-29 22:45:54</td>\n",
       "      <td>Homeless Concerns</td>\n",
       "      <td>Human Waste</td>\n",
       "      <td>37.77457</td>\n",
       "      <td>-122.4126</td>\n",
       "    </tr>\n",
       "    <tr>\n",
       "      <th>122</th>\n",
       "      <td>2008-12-29 17:32:46</td>\n",
       "      <td>Homeless Concerns</td>\n",
       "      <td>Human Waste</td>\n",
       "      <td>37.79704</td>\n",
       "      <td>-122.4349</td>\n",
       "    </tr>\n",
       "    <tr>\n",
       "      <th>135</th>\n",
       "      <td>2008-12-29 16:47:56</td>\n",
       "      <td>Homeless Concerns</td>\n",
       "      <td>Human Waste</td>\n",
       "      <td>37.71678</td>\n",
       "      <td>-122.4406</td>\n",
       "    </tr>\n",
       "    <tr>\n",
       "      <th>143</th>\n",
       "      <td>2008-12-29 16:30:23</td>\n",
       "      <td>Homeless Concerns</td>\n",
       "      <td>Human Waste</td>\n",
       "      <td>37.79072</td>\n",
       "      <td>-122.4043</td>\n",
       "    </tr>\n",
       "    <tr>\n",
       "      <th>148</th>\n",
       "      <td>2008-12-29 16:22:28</td>\n",
       "      <td>Homeless Concerns</td>\n",
       "      <td>Human Waste</td>\n",
       "      <td>37.72718</td>\n",
       "      <td>-122.4329</td>\n",
       "    </tr>\n",
       "    <tr>\n",
       "      <th>152</th>\n",
       "      <td>2008-12-29 16:05:00</td>\n",
       "      <td>Homeless Concerns</td>\n",
       "      <td>Human Waste</td>\n",
       "      <td>37.78260</td>\n",
       "      <td>-122.4150</td>\n",
       "    </tr>\n",
       "    <tr>\n",
       "      <th>157</th>\n",
       "      <td>2008-12-29 15:32:43</td>\n",
       "      <td>Homeless Concerns</td>\n",
       "      <td>Human Waste</td>\n",
       "      <td>37.75240</td>\n",
       "      <td>-122.4187</td>\n",
       "    </tr>\n",
       "    <tr>\n",
       "      <th>231</th>\n",
       "      <td>2008-12-29 11:18:38</td>\n",
       "      <td>Homeless Concerns</td>\n",
       "      <td>Human Waste</td>\n",
       "      <td>37.76320</td>\n",
       "      <td>-122.4190</td>\n",
       "    </tr>\n",
       "    <tr>\n",
       "      <th>235</th>\n",
       "      <td>2008-12-29 11:03:26</td>\n",
       "      <td>Homeless Concerns</td>\n",
       "      <td>Medical Waste</td>\n",
       "      <td>37.77050</td>\n",
       "      <td>-122.4080</td>\n",
       "    </tr>\n",
       "    <tr>\n",
       "      <th>265</th>\n",
       "      <td>2008-12-29 08:57:18</td>\n",
       "      <td>Homeless Concerns</td>\n",
       "      <td>Human Waste</td>\n",
       "      <td>37.76667</td>\n",
       "      <td>-122.4198</td>\n",
       "    </tr>\n",
       "    <tr>\n",
       "      <th>307</th>\n",
       "      <td>2008-12-28 17:12:15</td>\n",
       "      <td>Homeless Concerns</td>\n",
       "      <td>Human Waste</td>\n",
       "      <td>37.77620</td>\n",
       "      <td>-122.3974</td>\n",
       "    </tr>\n",
       "    <tr>\n",
       "      <th>323</th>\n",
       "      <td>2008-12-28 15:42:34</td>\n",
       "      <td>Homeless Concerns</td>\n",
       "      <td>Human Waste</td>\n",
       "      <td>37.78400</td>\n",
       "      <td>-122.4130</td>\n",
       "    </tr>\n",
       "    <tr>\n",
       "      <th>324</th>\n",
       "      <td>2008-12-28 15:40:27</td>\n",
       "      <td>Homeless Concerns</td>\n",
       "      <td>Human Waste</td>\n",
       "      <td>37.78290</td>\n",
       "      <td>-122.4120</td>\n",
       "    </tr>\n",
       "    <tr>\n",
       "      <th>325</th>\n",
       "      <td>2008-12-28 15:38:01</td>\n",
       "      <td>Homeless Concerns</td>\n",
       "      <td>Human Waste</td>\n",
       "      <td>37.78252</td>\n",
       "      <td>-122.4121</td>\n",
       "    </tr>\n",
       "    <tr>\n",
       "      <th>330</th>\n",
       "      <td>2008-12-28 15:22:37</td>\n",
       "      <td>Homeless Concerns</td>\n",
       "      <td>Medical Waste</td>\n",
       "      <td>37.77956</td>\n",
       "      <td>-122.4062</td>\n",
       "    </tr>\n",
       "    <tr>\n",
       "      <th>371</th>\n",
       "      <td>2008-12-28 12:39:26</td>\n",
       "      <td>Homeless Concerns</td>\n",
       "      <td>Human Waste</td>\n",
       "      <td>37.79617</td>\n",
       "      <td>-122.4068</td>\n",
       "    </tr>\n",
       "    <tr>\n",
       "      <th>379</th>\n",
       "      <td>2008-12-28 11:36:01</td>\n",
       "      <td>Homeless Concerns</td>\n",
       "      <td>Human Waste</td>\n",
       "      <td>37.78444</td>\n",
       "      <td>-122.4152</td>\n",
       "    </tr>\n",
       "    <tr>\n",
       "      <th>380</th>\n",
       "      <td>2008-12-28 11:34:39</td>\n",
       "      <td>Homeless Concerns</td>\n",
       "      <td>Human Waste</td>\n",
       "      <td>37.78240</td>\n",
       "      <td>-122.4150</td>\n",
       "    </tr>\n",
       "    <tr>\n",
       "      <th>381</th>\n",
       "      <td>2008-12-28 11:33:14</td>\n",
       "      <td>Homeless Concerns</td>\n",
       "      <td>Human Waste</td>\n",
       "      <td>37.78500</td>\n",
       "      <td>-122.4150</td>\n",
       "    </tr>\n",
       "    <tr>\n",
       "      <th>386</th>\n",
       "      <td>2008-12-28 10:34:07</td>\n",
       "      <td>Homeless Concerns</td>\n",
       "      <td>Human Waste</td>\n",
       "      <td>37.75144</td>\n",
       "      <td>-122.4319</td>\n",
       "    </tr>\n",
       "    <tr>\n",
       "      <th>415</th>\n",
       "      <td>2008-12-27 17:39:41</td>\n",
       "      <td>Homeless Concerns</td>\n",
       "      <td>Human Waste</td>\n",
       "      <td>37.78220</td>\n",
       "      <td>-122.4155</td>\n",
       "    </tr>\n",
       "    <tr>\n",
       "      <th>417</th>\n",
       "      <td>2008-12-27 17:00:50</td>\n",
       "      <td>Homeless Concerns</td>\n",
       "      <td>Human Waste</td>\n",
       "      <td>37.76357</td>\n",
       "      <td>-122.4806</td>\n",
       "    </tr>\n",
       "    <tr>\n",
       "      <th>423</th>\n",
       "      <td>2008-12-27 16:42:54</td>\n",
       "      <td>Homeless Concerns</td>\n",
       "      <td>Human Waste</td>\n",
       "      <td>37.79058</td>\n",
       "      <td>-122.4207</td>\n",
       "    </tr>\n",
       "    <tr>\n",
       "      <th>430</th>\n",
       "      <td>2008-12-27 16:28:41</td>\n",
       "      <td>Homeless Concerns</td>\n",
       "      <td>Human Waste</td>\n",
       "      <td>37.76360</td>\n",
       "      <td>-122.4799</td>\n",
       "    </tr>\n",
       "    <tr>\n",
       "      <th>451</th>\n",
       "      <td>2008-12-27 13:35:17</td>\n",
       "      <td>Homeless Concerns</td>\n",
       "      <td>Human Waste</td>\n",
       "      <td>37.78393</td>\n",
       "      <td>-122.4126</td>\n",
       "    </tr>\n",
       "    <tr>\n",
       "      <th>453</th>\n",
       "      <td>2008-12-27 13:28:53</td>\n",
       "      <td>Homeless Concerns</td>\n",
       "      <td>Human Waste</td>\n",
       "      <td>37.78186</td>\n",
       "      <td>-122.4139</td>\n",
       "    </tr>\n",
       "    <tr>\n",
       "      <th>456</th>\n",
       "      <td>2008-12-27 13:04:49</td>\n",
       "      <td>Homeless Concerns</td>\n",
       "      <td>Human Waste</td>\n",
       "      <td>37.78080</td>\n",
       "      <td>-122.4160</td>\n",
       "    </tr>\n",
       "    <tr>\n",
       "      <th>...</th>\n",
       "      <td>...</td>\n",
       "      <td>...</td>\n",
       "      <td>...</td>\n",
       "      <td>...</td>\n",
       "      <td>...</td>\n",
       "    </tr>\n",
       "    <tr>\n",
       "      <th>1633154</th>\n",
       "      <td>2017-12-30 16:43:00</td>\n",
       "      <td>Homeless Concerns</td>\n",
       "      <td>Medical Waste</td>\n",
       "      <td>37.76258</td>\n",
       "      <td>-122.4121</td>\n",
       "    </tr>\n",
       "    <tr>\n",
       "      <th>1633161</th>\n",
       "      <td>2017-12-30 17:13:00</td>\n",
       "      <td>Homeless Concerns</td>\n",
       "      <td>Human Waste</td>\n",
       "      <td>37.80427</td>\n",
       "      <td>-122.4323</td>\n",
       "    </tr>\n",
       "    <tr>\n",
       "      <th>1633207</th>\n",
       "      <td>2017-12-31 07:54:00</td>\n",
       "      <td>Homeless Concerns</td>\n",
       "      <td>Individual Concerns</td>\n",
       "      <td>37.78427</td>\n",
       "      <td>-122.4165</td>\n",
       "    </tr>\n",
       "    <tr>\n",
       "      <th>1633211</th>\n",
       "      <td>2017-12-31 08:02:00</td>\n",
       "      <td>Homeless Concerns</td>\n",
       "      <td>Human Waste</td>\n",
       "      <td>37.76724</td>\n",
       "      <td>-122.4364</td>\n",
       "    </tr>\n",
       "    <tr>\n",
       "      <th>1633218</th>\n",
       "      <td>2017-12-31 08:19:00</td>\n",
       "      <td>Homeless Concerns</td>\n",
       "      <td>Individual Concerns</td>\n",
       "      <td>37.77197</td>\n",
       "      <td>-122.4320</td>\n",
       "    </tr>\n",
       "    <tr>\n",
       "      <th>1633225</th>\n",
       "      <td>2017-12-31 09:02:00</td>\n",
       "      <td>Homeless Concerns</td>\n",
       "      <td>Human Waste</td>\n",
       "      <td>37.74989</td>\n",
       "      <td>-122.4203</td>\n",
       "    </tr>\n",
       "    <tr>\n",
       "      <th>1633239</th>\n",
       "      <td>2017-12-31 09:47:00</td>\n",
       "      <td>Homeless Concerns</td>\n",
       "      <td>Medical Waste</td>\n",
       "      <td>37.76851</td>\n",
       "      <td>-122.4030</td>\n",
       "    </tr>\n",
       "    <tr>\n",
       "      <th>1633247</th>\n",
       "      <td>2017-12-31 09:57:00</td>\n",
       "      <td>Homeless Concerns</td>\n",
       "      <td>Individual Concerns</td>\n",
       "      <td>37.78158</td>\n",
       "      <td>-122.3997</td>\n",
       "    </tr>\n",
       "    <tr>\n",
       "      <th>1633254</th>\n",
       "      <td>2017-12-31 10:05:00</td>\n",
       "      <td>Homeless Concerns</td>\n",
       "      <td>Individual Concerns</td>\n",
       "      <td>37.76087</td>\n",
       "      <td>-122.3911</td>\n",
       "    </tr>\n",
       "    <tr>\n",
       "      <th>1633274</th>\n",
       "      <td>2017-12-31 10:33:00</td>\n",
       "      <td>Homeless Concerns</td>\n",
       "      <td>Individual Concerns</td>\n",
       "      <td>37.79457</td>\n",
       "      <td>-122.4230</td>\n",
       "    </tr>\n",
       "    <tr>\n",
       "      <th>1633282</th>\n",
       "      <td>2017-12-31 10:45:00</td>\n",
       "      <td>Homeless Concerns</td>\n",
       "      <td>Medical Waste</td>\n",
       "      <td>37.75694</td>\n",
       "      <td>-122.4200</td>\n",
       "    </tr>\n",
       "    <tr>\n",
       "      <th>1633284</th>\n",
       "      <td>2017-12-31 10:53:00</td>\n",
       "      <td>Homeless Concerns</td>\n",
       "      <td>Individual Concerns</td>\n",
       "      <td>37.79368</td>\n",
       "      <td>-122.3989</td>\n",
       "    </tr>\n",
       "    <tr>\n",
       "      <th>1633289</th>\n",
       "      <td>2017-12-31 11:29:00</td>\n",
       "      <td>Homeless Concerns</td>\n",
       "      <td>Human Waste</td>\n",
       "      <td>37.77871</td>\n",
       "      <td>-122.4025</td>\n",
       "    </tr>\n",
       "    <tr>\n",
       "      <th>1633298</th>\n",
       "      <td>2017-12-31 11:43:00</td>\n",
       "      <td>Homeless Concerns</td>\n",
       "      <td>Human Waste</td>\n",
       "      <td>37.76101</td>\n",
       "      <td>-122.4160</td>\n",
       "    </tr>\n",
       "    <tr>\n",
       "      <th>1633301</th>\n",
       "      <td>2017-12-31 11:53:00</td>\n",
       "      <td>Homeless Concerns</td>\n",
       "      <td>Human Waste</td>\n",
       "      <td>37.75687</td>\n",
       "      <td>-122.4155</td>\n",
       "    </tr>\n",
       "    <tr>\n",
       "      <th>1633306</th>\n",
       "      <td>2017-12-31 12:23:00</td>\n",
       "      <td>Homeless Concerns</td>\n",
       "      <td>Human Waste</td>\n",
       "      <td>37.76202</td>\n",
       "      <td>-122.4313</td>\n",
       "    </tr>\n",
       "    <tr>\n",
       "      <th>1633308</th>\n",
       "      <td>2017-12-31 12:24:00</td>\n",
       "      <td>Homeless Concerns</td>\n",
       "      <td>Individual Concerns</td>\n",
       "      <td>37.77221</td>\n",
       "      <td>-122.4304</td>\n",
       "    </tr>\n",
       "    <tr>\n",
       "      <th>1633310</th>\n",
       "      <td>2017-12-31 12:24:00</td>\n",
       "      <td>Homeless Concerns</td>\n",
       "      <td>Human Waste</td>\n",
       "      <td>37.76202</td>\n",
       "      <td>-122.4313</td>\n",
       "    </tr>\n",
       "    <tr>\n",
       "      <th>1633311</th>\n",
       "      <td>2017-12-31 12:26:00</td>\n",
       "      <td>Homeless Concerns</td>\n",
       "      <td>Individual Concerns</td>\n",
       "      <td>37.76660</td>\n",
       "      <td>-122.4480</td>\n",
       "    </tr>\n",
       "    <tr>\n",
       "      <th>1633329</th>\n",
       "      <td>2017-12-31 13:27:00</td>\n",
       "      <td>Homeless Concerns</td>\n",
       "      <td>Human Waste</td>\n",
       "      <td>37.78580</td>\n",
       "      <td>-122.4157</td>\n",
       "    </tr>\n",
       "    <tr>\n",
       "      <th>1633338</th>\n",
       "      <td>2017-12-31 13:44:00</td>\n",
       "      <td>Homeless Concerns</td>\n",
       "      <td>Individual Concerns</td>\n",
       "      <td>37.78524</td>\n",
       "      <td>-122.4172</td>\n",
       "    </tr>\n",
       "    <tr>\n",
       "      <th>1633345</th>\n",
       "      <td>2017-12-31 13:47:53</td>\n",
       "      <td>Homeless Concerns</td>\n",
       "      <td>Human Waste</td>\n",
       "      <td>37.77310</td>\n",
       "      <td>-122.4268</td>\n",
       "    </tr>\n",
       "    <tr>\n",
       "      <th>1633366</th>\n",
       "      <td>2017-12-31 14:16:00</td>\n",
       "      <td>Homeless Concerns</td>\n",
       "      <td>Individual Concerns</td>\n",
       "      <td>37.78376</td>\n",
       "      <td>-122.4158</td>\n",
       "    </tr>\n",
       "    <tr>\n",
       "      <th>1633384</th>\n",
       "      <td>2017-12-31 15:02:00</td>\n",
       "      <td>Homeless Concerns</td>\n",
       "      <td>Individual Concerns</td>\n",
       "      <td>37.78761</td>\n",
       "      <td>-122.4251</td>\n",
       "    </tr>\n",
       "    <tr>\n",
       "      <th>1633400</th>\n",
       "      <td>2017-12-31 15:50:00</td>\n",
       "      <td>Homeless Concerns</td>\n",
       "      <td>Human Waste</td>\n",
       "      <td>37.79922</td>\n",
       "      <td>-122.4037</td>\n",
       "    </tr>\n",
       "    <tr>\n",
       "      <th>1633409</th>\n",
       "      <td>2017-12-31 17:49:00</td>\n",
       "      <td>Homeless Concerns</td>\n",
       "      <td>Individual Concerns</td>\n",
       "      <td>37.76114</td>\n",
       "      <td>-122.4128</td>\n",
       "    </tr>\n",
       "    <tr>\n",
       "      <th>1633410</th>\n",
       "      <td>2017-12-31 17:49:00</td>\n",
       "      <td>Homeless Concerns</td>\n",
       "      <td>Individual Concerns</td>\n",
       "      <td>37.76164</td>\n",
       "      <td>-122.4129</td>\n",
       "    </tr>\n",
       "    <tr>\n",
       "      <th>1633411</th>\n",
       "      <td>2017-12-31 17:52:00</td>\n",
       "      <td>Homeless Concerns</td>\n",
       "      <td>Individual Concerns</td>\n",
       "      <td>37.76010</td>\n",
       "      <td>-122.4127</td>\n",
       "    </tr>\n",
       "    <tr>\n",
       "      <th>1633412</th>\n",
       "      <td>2017-12-31 17:55:00</td>\n",
       "      <td>Homeless Concerns</td>\n",
       "      <td>Individual Concerns</td>\n",
       "      <td>37.76183</td>\n",
       "      <td>-122.4096</td>\n",
       "    </tr>\n",
       "    <tr>\n",
       "      <th>1633415</th>\n",
       "      <td>2017-12-31 18:48:00</td>\n",
       "      <td>Homeless Concerns</td>\n",
       "      <td>Individual Concerns</td>\n",
       "      <td>37.75556</td>\n",
       "      <td>-122.4165</td>\n",
       "    </tr>\n",
       "  </tbody>\n",
       "</table>\n",
       "<p>144948 rows × 5 columns</p>\n",
       "</div>"
      ],
      "text/plain": [
       "                     Opened           Category         Request Type  Latitude  \\\n",
       "52      2008-12-30 12:15:08  Homeless Concerns        Medical Waste  37.75343   \n",
       "68      2008-12-30 10:20:51  Homeless Concerns          Human Waste  37.75093   \n",
       "69      2008-12-30 10:06:28  Homeless Concerns          Human Waste  37.80336   \n",
       "107     2008-12-29 22:45:54  Homeless Concerns          Human Waste  37.77457   \n",
       "122     2008-12-29 17:32:46  Homeless Concerns          Human Waste  37.79704   \n",
       "135     2008-12-29 16:47:56  Homeless Concerns          Human Waste  37.71678   \n",
       "143     2008-12-29 16:30:23  Homeless Concerns          Human Waste  37.79072   \n",
       "148     2008-12-29 16:22:28  Homeless Concerns          Human Waste  37.72718   \n",
       "152     2008-12-29 16:05:00  Homeless Concerns          Human Waste  37.78260   \n",
       "157     2008-12-29 15:32:43  Homeless Concerns          Human Waste  37.75240   \n",
       "231     2008-12-29 11:18:38  Homeless Concerns          Human Waste  37.76320   \n",
       "235     2008-12-29 11:03:26  Homeless Concerns        Medical Waste  37.77050   \n",
       "265     2008-12-29 08:57:18  Homeless Concerns          Human Waste  37.76667   \n",
       "307     2008-12-28 17:12:15  Homeless Concerns          Human Waste  37.77620   \n",
       "323     2008-12-28 15:42:34  Homeless Concerns          Human Waste  37.78400   \n",
       "324     2008-12-28 15:40:27  Homeless Concerns          Human Waste  37.78290   \n",
       "325     2008-12-28 15:38:01  Homeless Concerns          Human Waste  37.78252   \n",
       "330     2008-12-28 15:22:37  Homeless Concerns        Medical Waste  37.77956   \n",
       "371     2008-12-28 12:39:26  Homeless Concerns          Human Waste  37.79617   \n",
       "379     2008-12-28 11:36:01  Homeless Concerns          Human Waste  37.78444   \n",
       "380     2008-12-28 11:34:39  Homeless Concerns          Human Waste  37.78240   \n",
       "381     2008-12-28 11:33:14  Homeless Concerns          Human Waste  37.78500   \n",
       "386     2008-12-28 10:34:07  Homeless Concerns          Human Waste  37.75144   \n",
       "415     2008-12-27 17:39:41  Homeless Concerns          Human Waste  37.78220   \n",
       "417     2008-12-27 17:00:50  Homeless Concerns          Human Waste  37.76357   \n",
       "423     2008-12-27 16:42:54  Homeless Concerns          Human Waste  37.79058   \n",
       "430     2008-12-27 16:28:41  Homeless Concerns          Human Waste  37.76360   \n",
       "451     2008-12-27 13:35:17  Homeless Concerns          Human Waste  37.78393   \n",
       "453     2008-12-27 13:28:53  Homeless Concerns          Human Waste  37.78186   \n",
       "456     2008-12-27 13:04:49  Homeless Concerns          Human Waste  37.78080   \n",
       "...                     ...                ...                  ...       ...   \n",
       "1633154 2017-12-30 16:43:00  Homeless Concerns        Medical Waste  37.76258   \n",
       "1633161 2017-12-30 17:13:00  Homeless Concerns          Human Waste  37.80427   \n",
       "1633207 2017-12-31 07:54:00  Homeless Concerns  Individual Concerns  37.78427   \n",
       "1633211 2017-12-31 08:02:00  Homeless Concerns          Human Waste  37.76724   \n",
       "1633218 2017-12-31 08:19:00  Homeless Concerns  Individual Concerns  37.77197   \n",
       "1633225 2017-12-31 09:02:00  Homeless Concerns          Human Waste  37.74989   \n",
       "1633239 2017-12-31 09:47:00  Homeless Concerns        Medical Waste  37.76851   \n",
       "1633247 2017-12-31 09:57:00  Homeless Concerns  Individual Concerns  37.78158   \n",
       "1633254 2017-12-31 10:05:00  Homeless Concerns  Individual Concerns  37.76087   \n",
       "1633274 2017-12-31 10:33:00  Homeless Concerns  Individual Concerns  37.79457   \n",
       "1633282 2017-12-31 10:45:00  Homeless Concerns        Medical Waste  37.75694   \n",
       "1633284 2017-12-31 10:53:00  Homeless Concerns  Individual Concerns  37.79368   \n",
       "1633289 2017-12-31 11:29:00  Homeless Concerns          Human Waste  37.77871   \n",
       "1633298 2017-12-31 11:43:00  Homeless Concerns          Human Waste  37.76101   \n",
       "1633301 2017-12-31 11:53:00  Homeless Concerns          Human Waste  37.75687   \n",
       "1633306 2017-12-31 12:23:00  Homeless Concerns          Human Waste  37.76202   \n",
       "1633308 2017-12-31 12:24:00  Homeless Concerns  Individual Concerns  37.77221   \n",
       "1633310 2017-12-31 12:24:00  Homeless Concerns          Human Waste  37.76202   \n",
       "1633311 2017-12-31 12:26:00  Homeless Concerns  Individual Concerns  37.76660   \n",
       "1633329 2017-12-31 13:27:00  Homeless Concerns          Human Waste  37.78580   \n",
       "1633338 2017-12-31 13:44:00  Homeless Concerns  Individual Concerns  37.78524   \n",
       "1633345 2017-12-31 13:47:53  Homeless Concerns          Human Waste  37.77310   \n",
       "1633366 2017-12-31 14:16:00  Homeless Concerns  Individual Concerns  37.78376   \n",
       "1633384 2017-12-31 15:02:00  Homeless Concerns  Individual Concerns  37.78761   \n",
       "1633400 2017-12-31 15:50:00  Homeless Concerns          Human Waste  37.79922   \n",
       "1633409 2017-12-31 17:49:00  Homeless Concerns  Individual Concerns  37.76114   \n",
       "1633410 2017-12-31 17:49:00  Homeless Concerns  Individual Concerns  37.76164   \n",
       "1633411 2017-12-31 17:52:00  Homeless Concerns  Individual Concerns  37.76010   \n",
       "1633412 2017-12-31 17:55:00  Homeless Concerns  Individual Concerns  37.76183   \n",
       "1633415 2017-12-31 18:48:00  Homeless Concerns  Individual Concerns  37.75556   \n",
       "\n",
       "         Longitude  \n",
       "52       -122.4253  \n",
       "68       -122.4134  \n",
       "69       -122.4183  \n",
       "107      -122.4126  \n",
       "122      -122.4349  \n",
       "135      -122.4406  \n",
       "143      -122.4043  \n",
       "148      -122.4329  \n",
       "152      -122.4150  \n",
       "157      -122.4187  \n",
       "231      -122.4190  \n",
       "235      -122.4080  \n",
       "265      -122.4198  \n",
       "307      -122.3974  \n",
       "323      -122.4130  \n",
       "324      -122.4120  \n",
       "325      -122.4121  \n",
       "330      -122.4062  \n",
       "371      -122.4068  \n",
       "379      -122.4152  \n",
       "380      -122.4150  \n",
       "381      -122.4150  \n",
       "386      -122.4319  \n",
       "415      -122.4155  \n",
       "417      -122.4806  \n",
       "423      -122.4207  \n",
       "430      -122.4799  \n",
       "451      -122.4126  \n",
       "453      -122.4139  \n",
       "456      -122.4160  \n",
       "...            ...  \n",
       "1633154  -122.4121  \n",
       "1633161  -122.4323  \n",
       "1633207  -122.4165  \n",
       "1633211  -122.4364  \n",
       "1633218  -122.4320  \n",
       "1633225  -122.4203  \n",
       "1633239  -122.4030  \n",
       "1633247  -122.3997  \n",
       "1633254  -122.3911  \n",
       "1633274  -122.4230  \n",
       "1633282  -122.4200  \n",
       "1633284  -122.3989  \n",
       "1633289  -122.4025  \n",
       "1633298  -122.4160  \n",
       "1633301  -122.4155  \n",
       "1633306  -122.4313  \n",
       "1633308  -122.4304  \n",
       "1633310  -122.4313  \n",
       "1633311  -122.4480  \n",
       "1633329  -122.4157  \n",
       "1633338  -122.4172  \n",
       "1633345  -122.4268  \n",
       "1633366  -122.4158  \n",
       "1633384  -122.4251  \n",
       "1633400  -122.4037  \n",
       "1633409  -122.4128  \n",
       "1633410  -122.4129  \n",
       "1633411  -122.4127  \n",
       "1633412  -122.4096  \n",
       "1633415  -122.4165  \n",
       "\n",
       "[144948 rows x 5 columns]"
      ]
     },
     "execution_count": 36,
     "metadata": {},
     "output_type": "execute_result"
    }
   ],
   "source": [
    "new_df"
   ]
  },
  {
   "cell_type": "code",
   "execution_count": null,
   "metadata": {
    "collapsed": true
   },
   "outputs": [],
   "source": []
  }
 ],
 "metadata": {
  "kernelspec": {
   "display_name": "Python 2",
   "language": "python",
   "name": "python2"
  },
  "language_info": {
   "codemirror_mode": {
    "name": "ipython",
    "version": 2
   },
   "file_extension": ".py",
   "mimetype": "text/x-python",
   "name": "python",
   "nbconvert_exporter": "python",
   "pygments_lexer": "ipython2",
   "version": "2.7.13"
  }
 },
 "nbformat": 4,
 "nbformat_minor": 2
}
